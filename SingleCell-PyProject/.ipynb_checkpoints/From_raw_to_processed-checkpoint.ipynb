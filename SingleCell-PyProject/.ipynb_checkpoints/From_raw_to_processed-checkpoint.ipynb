{
 "cells": [
  {
   "cell_type": "markdown",
   "metadata": {},
   "source": [
    "# Process raw data to ontology format"
   ]
  },
  {
   "cell_type": "code",
   "execution_count": 1,
   "metadata": {},
   "outputs": [],
   "source": [
    "import json\n",
    "\n",
    "from OntologyCreator import OntologyCreator"
   ]
  },
  {
   "cell_type": "markdown",
   "metadata": {},
   "source": [
    "## Read raw files from all repositories"
   ]
  },
  {
   "cell_type": "code",
   "execution_count": 2,
   "metadata": {},
   "outputs": [],
   "source": [
    "with open('../SingleCell-Files/raw_data/HCA_samples.json') as f:\n",
    "    HCA_samples = json.load(f)\n",
    "\n",
    "with open('../SingleCell-Files/raw_data/HCA_projects.json') as f:\n",
    "    HCA_projects = json.load(f)\n",
    "\n",
    "with open('../SingleCell-Files/raw_data/SCAE_samples.json') as f:\n",
    "    SCAE_samples = json.load(f)\n",
    "\n",
    "with open('../SingleCell-Files/raw_data/SCAE_projects.json') as f:\n",
    "    SCAE_projects = json.load(f)"
   ]
  },
  {
   "cell_type": "markdown",
   "metadata": {},
   "source": [
    "## Create parser class"
   ]
  },
  {
   "cell_type": "code",
   "execution_count": 3,
   "metadata": {},
   "outputs": [],
   "source": [
    "ont_creator = OntologyCreator()\n",
    "\n",
    "HCA_processed = {}\n",
    "SCAE_processed = {}"
   ]
  },
  {
   "cell_type": "markdown",
   "metadata": {},
   "source": [
    "## Format data from HCA repository\n",
    "\n",
    "For a more in-depth analysis of the data, as well as the formatting to the ontology format look python classes"
   ]
  },
  {
   "cell_type": "markdown",
   "metadata": {},
   "source": [
    "### Format HCA samples"
   ]
  },
  {
   "cell_type": "code",
   "execution_count": 4,
   "metadata": {
    "scrolled": true
   },
   "outputs": [],
   "source": [
    "HCA_samples_processed = list(map(ont_creator.create_hca_specimen, HCA_samples['samples']))\n",
    "\n",
    "HCA_processed['specimens'] = HCA_samples_processed"
   ]
  },
  {
   "cell_type": "markdown",
   "metadata": {},
   "source": [
    "### Format HCA projects"
   ]
  },
  {
   "cell_type": "code",
   "execution_count": 5,
   "metadata": {
    "scrolled": true
   },
   "outputs": [],
   "source": [
    "HCA_projects_processed = list(map(ont_creator.create_hca_project, HCA_projects['projects']))\n",
    "\n",
    "HCA_processed['projects'] = HCA_projects_processed"
   ]
  },
  {
   "cell_type": "markdown",
   "metadata": {},
   "source": [
    "### Save HCA processed data"
   ]
  },
  {
   "cell_type": "code",
   "execution_count": 6,
   "metadata": {},
   "outputs": [],
   "source": [
    "with open('../SingleCell-Files/processed_data/HCA_processed.json', 'w') as outfile:\n",
    "    json.dump(HCA_processed, outfile)"
   ]
  },
  {
   "cell_type": "markdown",
   "metadata": {},
   "source": [
    "## Format data from SCAE repository\n",
    "\n",
    "For a more in-depth analysis of the data, as well as the formatting to the ontology format look python classes"
   ]
  },
  {
   "cell_type": "markdown",
   "metadata": {},
   "source": [
    "### Format SCAE samples"
   ]
  },
  {
   "cell_type": "code",
   "execution_count": 7,
   "metadata": {
    "scrolled": true
   },
   "outputs": [
    {
     "ename": "AttributeError",
     "evalue": "'OntologyCreator' object has no attribute 'create_scae_specimen'",
     "output_type": "error",
     "traceback": [
      "\u001b[0;31m---------------------------------------------------------------------------\u001b[0m",
      "\u001b[0;31mAttributeError\u001b[0m                            Traceback (most recent call last)",
      "\u001b[0;32m<ipython-input-7-cfb25584c033>\u001b[0m in \u001b[0;36m<module>\u001b[0;34m\u001b[0m\n\u001b[0;32m----> 1\u001b[0;31m \u001b[0mSCAE_samples_processed\u001b[0m \u001b[0;34m=\u001b[0m \u001b[0mlist\u001b[0m\u001b[0;34m(\u001b[0m\u001b[0mmap\u001b[0m\u001b[0;34m(\u001b[0m\u001b[0mont_creator\u001b[0m\u001b[0;34m.\u001b[0m\u001b[0mcreate_scae_specimen\u001b[0m\u001b[0;34m,\u001b[0m \u001b[0mSCAE_samples\u001b[0m\u001b[0;34m[\u001b[0m\u001b[0;34m'specimens'\u001b[0m\u001b[0;34m]\u001b[0m\u001b[0;34m)\u001b[0m\u001b[0;34m)\u001b[0m\u001b[0;34m\u001b[0m\u001b[0;34m\u001b[0m\u001b[0m\n\u001b[0m\u001b[1;32m      2\u001b[0m \u001b[0;34m\u001b[0m\u001b[0m\n\u001b[1;32m      3\u001b[0m \u001b[0mSCAE_processed\u001b[0m\u001b[0;34m[\u001b[0m\u001b[0;34m'specimens'\u001b[0m\u001b[0;34m]\u001b[0m \u001b[0;34m=\u001b[0m \u001b[0mSCAE_samples_processed\u001b[0m\u001b[0;34m\u001b[0m\u001b[0;34m\u001b[0m\u001b[0m\n",
      "\u001b[0;31mAttributeError\u001b[0m: 'OntologyCreator' object has no attribute 'create_scae_specimen'"
     ]
    }
   ],
   "source": [
    "SCAE_samples_processed = list(map(ont_creator.create_scea_specimen, SCAE_samples['specimens']))\n",
    "\n",
    "SCAE_processed['specimens'] = SCAE_samples_processed"
   ]
  },
  {
   "cell_type": "markdown",
   "metadata": {},
   "source": [
    "### Format SCAE projects"
   ]
  },
  {
   "cell_type": "code",
   "execution_count": null,
   "metadata": {
    "scrolled": true
   },
   "outputs": [],
   "source": [
    "SCAE_projects_processed = list(map(ont_creator.create_scae_project, SCAE_projects['experiments']))\n",
    "\n",
    "SCAE_processed['projects'] = SCAE_projects_processed"
   ]
  },
  {
   "cell_type": "markdown",
   "metadata": {},
   "source": [
    "### Save SCAE processed data"
   ]
  },
  {
   "cell_type": "code",
   "execution_count": null,
   "metadata": {},
   "outputs": [],
   "source": [
    "with open('../SingleCell-Files/processed_data/SCAE_processed.json', 'w') as outfile:\n",
    "    json.dump(SCAE_processed, outfile)"
   ]
  }
 ],
 "metadata": {
  "kernelspec": {
   "display_name": "Python 3",
   "language": "python",
   "name": "python3"
  },
  "language_info": {
   "codemirror_mode": {
    "name": "ipython",
    "version": 3
   },
   "file_extension": ".py",
   "mimetype": "text/x-python",
   "name": "python",
   "nbconvert_exporter": "python",
   "pygments_lexer": "ipython3",
   "version": "3.8.5"
  }
 },
 "nbformat": 4,
 "nbformat_minor": 4
}
