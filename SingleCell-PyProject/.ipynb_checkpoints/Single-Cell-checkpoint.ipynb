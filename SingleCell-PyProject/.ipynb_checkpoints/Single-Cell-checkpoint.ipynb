{
 "cells": [
  {
   "cell_type": "markdown",
   "metadata": {},
   "source": [
    "# Read data from HCA API"
   ]
  },
  {
   "cell_type": "code",
   "execution_count": 1,
   "metadata": {},
   "outputs": [],
   "source": [
    "import requests\n",
    "import json\n",
    "import sys"
   ]
  },
  {
   "cell_type": "markdown",
   "metadata": {},
   "source": [
    "### API URL Request\n",
    "\n",
    "The data base has 800 samples, we indicate `size=801` to get them all."
   ]
  },
  {
   "cell_type": "code",
   "execution_count": 2,
   "metadata": {},
   "outputs": [],
   "source": [
    "seed_url = \"https://service.explore.data.humancellatlas.org/repository/samples?filters=%7B%7D&size=801\""
   ]
  },
  {
   "cell_type": "markdown",
   "metadata": {},
   "source": [
    "It is necessary to indicate the user agent in the request so the server do not detect we are web scraping."
   ]
  },
  {
   "cell_type": "code",
   "execution_count": 3,
   "metadata": {},
   "outputs": [],
   "source": [
    "# User-Agent obtenido del recurso del curso.\n",
    "headers = {\n",
    "    \"user-agent\": \"Mozilla/5.0 (Macintosh; Intel Mac OS X 10_15_6) AppleWebKit/537.36 (KHTML, like Gecko) Chrome/85.0.4183.83 Safari/537.36\"\n",
    "}"
   ]
  },
  {
   "cell_type": "markdown",
   "metadata": {},
   "source": [
    "We do the request and get all the data in json format"
   ]
  },
  {
   "cell_type": "code",
   "execution_count": 4,
   "metadata": {},
   "outputs": [],
   "source": [
    "answer = requests.get(seed_url, headers=headers)"
   ]
  },
  {
   "cell_type": "markdown",
   "metadata": {},
   "source": [
    "If we take a look into the json, we can see that the data is in the object \"hits\"."
   ]
  },
  {
   "cell_type": "code",
   "execution_count": 5,
   "metadata": {
    "scrolled": true
   },
   "outputs": [],
   "source": [
    "# print(json.dumps(answer.json(), indent=2, sort_keys=True))"
   ]
  },
  {
   "cell_type": "code",
   "execution_count": 6,
   "metadata": {},
   "outputs": [
    {
     "name": "stdout",
     "output_type": "stream",
     "text": [
      "800\n"
     ]
    }
   ],
   "source": [
    "hits = answer.json()['hits']\n",
    "print(len(hits))"
   ]
  },
  {
   "cell_type": "markdown",
   "metadata": {},
   "source": [
    "We save the hits in this raw json format."
   ]
  },
  {
   "cell_type": "code",
   "execution_count": 7,
   "metadata": {},
   "outputs": [],
   "source": [
    "with open('../SingleCell-Files/hits_raw.json', 'w') as outfile:\n",
    "    json.dump(hits, outfile)"
   ]
  },
  {
   "cell_type": "markdown",
   "metadata": {},
   "source": [
    "### Format data\n",
    "\n",
    "For a more in-depth analysis of the data, as well as the formatting to the ontology format, see HCA_conversor notebook."
   ]
  },
  {
   "cell_type": "code",
   "execution_count": 8,
   "metadata": {},
   "outputs": [],
   "source": [
    "from OntologyConversor import format_HCD"
   ]
  },
  {
   "cell_type": "code",
   "execution_count": 9,
   "metadata": {
    "scrolled": true
   },
   "outputs": [
    {
     "name": "stdout",
     "output_type": "stream",
     "text": [
      "{\n",
      "  \"Classes\": {\n",
      "    \"Accesion\": null,\n",
      "    \"AnalysisProtocol\": [\n",
      "      null\n",
      "    ],\n",
      "    \"CellType\": [\n",
      "      \"CD4+TCell\"\n",
      "    ],\n",
      "    \"Collection\": [\n",
      "      \"HumanCellAtlas\"\n",
      "    ],\n",
      "    \"Disease\": [\n",
      "      \"Melanoma\"\n",
      "    ],\n",
      "    \"Experimental\": null,\n",
      "    \"FileFormat\": [\n",
      "      \"fastq.gz\"\n",
      "    ],\n",
      "    \"FileType\": null,\n",
      "    \"GenusSpecies\": [\n",
      "      \"MusMusculus\"\n",
      "    ],\n",
      "    \"InstrumentModel\": [\n",
      "      \"IlluminaHiSeq2500\",\n",
      "      null\n",
      "    ],\n",
      "    \"Kingdom\": null,\n",
      "    \"Library\": [\n",
      "      \"Smart-seq2\",\n",
      "      null\n",
      "    ],\n",
      "    \"Organ\": [\n",
      "      \"LymphNode\"\n",
      "    ],\n",
      "    \"OrganPart\": [\n",
      "      null\n",
      "    ],\n",
      "    \"Preservation\": [\n",
      "      null\n",
      "    ],\n",
      "    \"Repository\": [\n",
      "      \"HumanCellAtlasDataCoordinationPlatform\",\n",
      "      \"InstituteOfCellularMedicine\",\n",
      "      \"MRCCancerUnit\",\n",
      "      \"SarahTeichmann\"\n",
      "    ],\n",
      "    \"SampleType\": [\n",
      "      \"Specimens\"\n",
      "    ]\n",
      "  },\n",
      "  \"DataProperties\": {\n",
      "    \"hasAccessId\": null,\n",
      "    \"hasAgeOf\": [\n",
      "      \"6-12\"\n",
      "    ],\n",
      "    \"hasAgeRangeOf\": [\n",
      "      {\n",
      "        \"gte\": 3628800.0,\n",
      "        \"lte\": 7257600.0\n",
      "      }\n",
      "    ],\n",
      "    \"hasAgeUnitOf\": [\n",
      "      \"Week\"\n",
      "    ],\n",
      "    \"hasBiologicalSexOf\": [\n",
      "      \"Female\"\n",
      "    ],\n",
      "    \"hasCellCountsEstimatesOf\": [\n",
      "      182\n",
      "    ],\n",
      "    \"hasDonorCountOf\": 1,\n",
      "    \"hasProjectShortName\": [\n",
      "      \"Mouse Melanoma\"\n",
      "    ],\n",
      "    \"hasProjectTitle\": [\n",
      "      \"Melanoma infiltration of stromal and immune cells\"\n",
      "    ],\n",
      "    \"hasSizeOf\": [\n",
      "      8206104986\n",
      "    ],\n",
      "    \"hasTotalCellsOf\": 91,\n",
      "    \"hasTotalDonorCounts\": null,\n",
      "    \"hasTotalSizeOf\": 8206104986,\n",
      "    \"isPairedEnd\": [\n",
      "      true,\n",
      "      null\n",
      "    ],\n",
      "    \"isPartOfLaboratory\": null\n",
      "  },\n",
      "  \"ID\": \"1104_LN\",\n",
      "  \"ObjectProperties\": {\n",
      "    \"hasAccessIdIn\": null,\n",
      "    \"hasAnalysisProtocolOf\": [\n",
      "      null\n",
      "    ],\n",
      "    \"hasCellLineType\": null,\n",
      "    \"hasDiseaseStatusOf\": null,\n",
      "    \"hasFileTypeOf\": [\n",
      "      \"fastq.gz\"\n",
      "    ],\n",
      "    \"hasInstrumentOf\": [\n",
      "      \"IlluminaHiSeq2500\",\n",
      "      null\n",
      "    ],\n",
      "    \"hasLibraryOf\": [\n",
      "      \"Smart-seq2\",\n",
      "      null\n",
      "    ],\n",
      "    \"hasModelOrganOf\": null,\n",
      "    \"hasOrganOf\": [\n",
      "      \"LymphNode\"\n",
      "    ],\n",
      "    \"hasOrganPartOf\": [\n",
      "      null\n",
      "    ],\n",
      "    \"hasPreservationOf\": null,\n",
      "    \"hasSampleTypeOf\": null,\n",
      "    \"hasSelectedCellTypeOf\": null,\n",
      "    \"isComposedOf\": null,\n",
      "    \"isPartOfCollection\": null,\n",
      "    \"isPartOfProject\": null,\n",
      "    \"isPartOfRepository\": null\n",
      "  }\n",
      "}\n"
     ]
    }
   ],
   "source": [
    "print(json.dumps(format_HCD(hits[0]), indent=2, sort_keys=True))"
   ]
  },
  {
   "cell_type": "code",
   "execution_count": null,
   "metadata": {},
   "outputs": [],
   "source": [
    "hits_processed = list(map(format_HCD, hits))\n",
    "#print(list(hits_processed))\n",
    "print(json.dumps(hits_processed, indent=2, sort_keys=True))"
   ]
  },
  {
   "cell_type": "code",
   "execution_count": null,
   "metadata": {
    "scrolled": true
   },
   "outputs": [],
   "source": [
    "json_processed = {}\n",
    "json_processed['hits'] = hits_processed\n",
    "\n",
    "print(json.dumps(json_processed, indent=2, sort_keys=True))"
   ]
  },
  {
   "cell_type": "code",
   "execution_count": 12,
   "metadata": {},
   "outputs": [],
   "source": [
    "with open('../SingleCell-Files/hits_processed.json', 'w') as outfile:\n",
    "    json.dump(json_processed, outfile)"
   ]
  },
  {
   "cell_type": "code",
   "execution_count": null,
   "metadata": {},
   "outputs": [],
   "source": []
  }
 ],
 "metadata": {
  "kernelspec": {
   "display_name": "Python 3",
   "language": "python",
   "name": "python3"
  },
  "language_info": {
   "codemirror_mode": {
    "name": "ipython",
    "version": 3
   },
   "file_extension": ".py",
   "mimetype": "text/x-python",
   "name": "python",
   "nbconvert_exporter": "python",
   "pygments_lexer": "ipython3",
   "version": "3.8.5"
  }
 },
 "nbformat": 4,
 "nbformat_minor": 4
}
