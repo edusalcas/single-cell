{
 "cells": [
  {
   "cell_type": "code",
   "execution_count": 8,
   "metadata": {},
   "outputs": [],
   "source": [
    "import requests\n",
    "import pandas as pd\n",
    "import urllib.parse\n",
    "import json\n",
    "import time\n",
    "import re\n",
    "\n",
    "from IPython.display import clear_output\n",
    "from GetTermsOntobee import get_URI_from_name, get_name_from_URI"
   ]
  },
  {
   "cell_type": "markdown",
   "metadata": {},
   "source": [
    "# SCEA diseases"
   ]
  },
  {
   "cell_type": "code",
   "execution_count": 9,
   "metadata": {},
   "outputs": [],
   "source": [
    "seed_url = \"https://www.ebi.ac.uk/gxa/sc/json/experiments\""
   ]
  },
  {
   "cell_type": "code",
   "execution_count": 10,
   "metadata": {},
   "outputs": [],
   "source": [
    "headers = {\n",
    "    \"user-agent\": \"Mozilla/5.0 (Macintosh; Intel Mac OS X 10_15_6) AppleWebKit/537.36 (KHTML, like Gecko) Chrome/85.0.4183.83 Safari/537.36\"\n",
    "}"
   ]
  },
  {
   "cell_type": "code",
   "execution_count": 11,
   "metadata": {},
   "outputs": [],
   "source": [
    "answer = requests.get(seed_url, headers=headers)"
   ]
  },
  {
   "cell_type": "code",
   "execution_count": 12,
   "metadata": {},
   "outputs": [],
   "source": [
    "ontologies = ['EFO', 'PATO', 'MONDO', 'DOID', 'HP']"
   ]
  },
  {
   "cell_type": "code",
   "execution_count": 13,
   "metadata": {},
   "outputs": [],
   "source": [
    "def get_terms_from_project(experiment_id, name_column, ontology_column):\n",
    "    terms = []\n",
    "    terms_names = []\n",
    "    \n",
    "    experiment_metadata = f\"https://www.ebi.ac.uk/gxa/sc/experiment/{experiment_id}/download?fileType=experiment-design&accessKey=\"\n",
    "    \n",
    "    df = pd.read_csv(experiment_metadata, sep='\\t', low_memory=False)\n",
    "            \n",
    "    if name_column in df.columns:\n",
    "        project_term_names = df[name_column].unique()\n",
    "        project_term_URIs = df[ontology_column].unique()\n",
    "    \n",
    "        # Balance names and URIs\n",
    "        project_term_URIs = list(project_term_URIs)\n",
    "        project_term_URIs += [None] * (len(project_term_names) - len(project_term_URIs))\n",
    "        \n",
    "        for name, URI in zip(project_term_names, project_term_URIs):\n",
    "            # If we have already code the cell_type we skip it\n",
    "            if name in terms_names:\n",
    "                continue\n",
    "            \n",
    "            print(name)\n",
    "            \n",
    "            # If we have no info of URI we search for it\n",
    "            if URI is None or str(URI) == 'nan':\n",
    "                for ontology in ontologies:\n",
    "                    \n",
    "                    URI = get_URI_from_name(name, ontology)\n",
    "                    time.sleep(1)\n",
    "                    \n",
    "                    if URI is not None:\n",
    "                        terms.append({\n",
    "                            'name': name,\n",
    "                            'URI': URI\n",
    "                        })\n",
    "                \n",
    "                if URI is None:\n",
    "                    URI = get_URI_from_name(name)\n",
    "                    time.sleep(1)\n",
    "                    \n",
    "                    terms.append({\n",
    "                        'name': name,\n",
    "                        'URI': URI\n",
    "                    })\n",
    "                    \n",
    "            # Otherwise   \n",
    "            else:                    \n",
    "                terms_names.append(name)\n",
    "\n",
    "                terms.append({\n",
    "                    'name': name,\n",
    "                    'URI': URI\n",
    "                })\n",
    "                \n",
    "            # If there are two or more cell types in the name\n",
    "            if URI is None:\n",
    "                new_l = re.split(' and |, |; ', name)\n",
    "                for new_name in new_l:\n",
    "                    \n",
    "                    for ontology in ontologies:\n",
    "                        \n",
    "                        URI = get_URI_from_name(new_name, ontology)\n",
    "                        time.sleep(1)\n",
    "                        \n",
    "                        if URI is not None:\n",
    "\n",
    "                            terms.append({\n",
    "                                'name': new_name,\n",
    "                                'URI': URI\n",
    "                            })\n",
    "                    \n",
    "                    if URI is None:\n",
    "                        URI = get_URI_from_name(name)\n",
    "                        time.sleep(1)\n",
    "\n",
    "                        terms.append({\n",
    "                            'name': name,\n",
    "                            'URI': URI\n",
    "                        })\n",
    "                        \n",
    "                    terms_names.append(new_name)\n",
    "            \n",
    "\n",
    "    return terms, terms_names"
   ]
  },
  {
   "cell_type": "code",
   "execution_count": 14,
   "metadata": {
    "scrolled": false
   },
   "outputs": [
    {
     "name": "stdout",
     "output_type": "stream",
     "text": [
      "2/181\n",
      "bronchioalveolar carcinoma; non-small cell lung cancer\n"
     ]
    },
    {
     "ename": "ParserError",
     "evalue": "Document is empty",
     "output_type": "error",
     "traceback": [
      "\u001b[0;31m---------------------------------------------------------------------------\u001b[0m",
      "\u001b[0;31mParserError\u001b[0m                               Traceback (most recent call last)",
      "\u001b[0;32m<ipython-input-14-a1d16a4d9b19>\u001b[0m in \u001b[0;36m<module>\u001b[0;34m\u001b[0m\n\u001b[1;32m     15\u001b[0m     diseases_pro, disease_names_pro = get_terms_from_project(experiment_id=experiment_id, \n\u001b[1;32m     16\u001b[0m                                                              \u001b[0mname_column\u001b[0m\u001b[0;34m=\u001b[0m\u001b[0;34m'Sample Characteristic[disease]'\u001b[0m\u001b[0;34m,\u001b[0m\u001b[0;34m\u001b[0m\u001b[0;34m\u001b[0m\u001b[0m\n\u001b[0;32m---> 17\u001b[0;31m                                                              ontology_column='Sample Characteristic Ontology Term[disease]')\n\u001b[0m\u001b[1;32m     18\u001b[0m \u001b[0;34m\u001b[0m\u001b[0m\n\u001b[1;32m     19\u001b[0m     \u001b[0mdiseases\u001b[0m \u001b[0;34m+=\u001b[0m \u001b[0mdiseases_pro\u001b[0m\u001b[0;34m\u001b[0m\u001b[0;34m\u001b[0m\u001b[0m\n",
      "\u001b[0;32m<ipython-input-13-013881d731c3>\u001b[0m in \u001b[0;36mget_terms_from_project\u001b[0;34m(experiment_id, name_column, ontology_column)\u001b[0m\n\u001b[1;32m     26\u001b[0m                 \u001b[0;32mfor\u001b[0m \u001b[0montology\u001b[0m \u001b[0;32min\u001b[0m \u001b[0montologies\u001b[0m\u001b[0;34m:\u001b[0m\u001b[0;34m\u001b[0m\u001b[0;34m\u001b[0m\u001b[0m\n\u001b[1;32m     27\u001b[0m \u001b[0;34m\u001b[0m\u001b[0m\n\u001b[0;32m---> 28\u001b[0;31m                     \u001b[0mURI\u001b[0m \u001b[0;34m=\u001b[0m \u001b[0mget_URI_from_name\u001b[0m\u001b[0;34m(\u001b[0m\u001b[0mname\u001b[0m\u001b[0;34m,\u001b[0m \u001b[0montology\u001b[0m\u001b[0;34m)\u001b[0m\u001b[0;34m\u001b[0m\u001b[0;34m\u001b[0m\u001b[0m\n\u001b[0m\u001b[1;32m     29\u001b[0m                     \u001b[0mtime\u001b[0m\u001b[0;34m.\u001b[0m\u001b[0msleep\u001b[0m\u001b[0;34m(\u001b[0m\u001b[0;36m1\u001b[0m\u001b[0;34m)\u001b[0m\u001b[0;34m\u001b[0m\u001b[0;34m\u001b[0m\u001b[0m\n\u001b[1;32m     30\u001b[0m \u001b[0;34m\u001b[0m\u001b[0m\n",
      "\u001b[0;32m~/single-cell/SingleCell-PyProject/GetTermsOntobee.py\u001b[0m in \u001b[0;36mget_URI_from_name\u001b[0;34m(term_name, ontology)\u001b[0m\n\u001b[1;32m     25\u001b[0m     \u001b[0manswer\u001b[0m \u001b[0;34m=\u001b[0m \u001b[0mrequests\u001b[0m\u001b[0;34m.\u001b[0m\u001b[0mget\u001b[0m\u001b[0;34m(\u001b[0m\u001b[0mseed_url\u001b[0m\u001b[0;34m,\u001b[0m \u001b[0mheaders\u001b[0m\u001b[0;34m=\u001b[0m\u001b[0mheaders\u001b[0m\u001b[0;34m)\u001b[0m\u001b[0;34m\u001b[0m\u001b[0;34m\u001b[0m\u001b[0m\n\u001b[1;32m     26\u001b[0m \u001b[0;34m\u001b[0m\u001b[0m\n\u001b[0;32m---> 27\u001b[0;31m     \u001b[0mparser\u001b[0m \u001b[0;34m=\u001b[0m \u001b[0mhtml\u001b[0m\u001b[0;34m.\u001b[0m\u001b[0mfromstring\u001b[0m\u001b[0;34m(\u001b[0m\u001b[0manswer\u001b[0m\u001b[0;34m.\u001b[0m\u001b[0mtext\u001b[0m\u001b[0;34m)\u001b[0m\u001b[0;34m\u001b[0m\u001b[0;34m\u001b[0m\u001b[0m\n\u001b[0m\u001b[1;32m     28\u001b[0m \u001b[0;34m\u001b[0m\u001b[0m\n\u001b[1;32m     29\u001b[0m     \u001b[0mterms\u001b[0m \u001b[0;34m=\u001b[0m \u001b[0mparser\u001b[0m\u001b[0;34m.\u001b[0m\u001b[0mxpath\u001b[0m\u001b[0;34m(\u001b[0m\u001b[0;34m\"//li[@class='search-list']\"\u001b[0m\u001b[0;34m)\u001b[0m\u001b[0;34m\u001b[0m\u001b[0;34m\u001b[0m\u001b[0m\n",
      "\u001b[0;32m/usr/local/anaconda3/lib/python3.7/site-packages/lxml/html/__init__.py\u001b[0m in \u001b[0;36mfromstring\u001b[0;34m(html, base_url, parser, **kw)\u001b[0m\n\u001b[1;32m    873\u001b[0m     \u001b[0;32melse\u001b[0m\u001b[0;34m:\u001b[0m\u001b[0;34m\u001b[0m\u001b[0;34m\u001b[0m\u001b[0m\n\u001b[1;32m    874\u001b[0m         \u001b[0mis_full_html\u001b[0m \u001b[0;34m=\u001b[0m \u001b[0m_looks_like_full_html_unicode\u001b[0m\u001b[0;34m(\u001b[0m\u001b[0mhtml\u001b[0m\u001b[0;34m)\u001b[0m\u001b[0;34m\u001b[0m\u001b[0;34m\u001b[0m\u001b[0m\n\u001b[0;32m--> 875\u001b[0;31m     \u001b[0mdoc\u001b[0m \u001b[0;34m=\u001b[0m \u001b[0mdocument_fromstring\u001b[0m\u001b[0;34m(\u001b[0m\u001b[0mhtml\u001b[0m\u001b[0;34m,\u001b[0m \u001b[0mparser\u001b[0m\u001b[0;34m=\u001b[0m\u001b[0mparser\u001b[0m\u001b[0;34m,\u001b[0m \u001b[0mbase_url\u001b[0m\u001b[0;34m=\u001b[0m\u001b[0mbase_url\u001b[0m\u001b[0;34m,\u001b[0m \u001b[0;34m**\u001b[0m\u001b[0mkw\u001b[0m\u001b[0;34m)\u001b[0m\u001b[0;34m\u001b[0m\u001b[0;34m\u001b[0m\u001b[0m\n\u001b[0m\u001b[1;32m    876\u001b[0m     \u001b[0;32mif\u001b[0m \u001b[0mis_full_html\u001b[0m\u001b[0;34m:\u001b[0m\u001b[0;34m\u001b[0m\u001b[0;34m\u001b[0m\u001b[0m\n\u001b[1;32m    877\u001b[0m         \u001b[0;32mreturn\u001b[0m \u001b[0mdoc\u001b[0m\u001b[0;34m\u001b[0m\u001b[0;34m\u001b[0m\u001b[0m\n",
      "\u001b[0;32m/usr/local/anaconda3/lib/python3.7/site-packages/lxml/html/__init__.py\u001b[0m in \u001b[0;36mdocument_fromstring\u001b[0;34m(html, parser, ensure_head_body, **kw)\u001b[0m\n\u001b[1;32m    762\u001b[0m     \u001b[0;32mif\u001b[0m \u001b[0mvalue\u001b[0m \u001b[0;32mis\u001b[0m \u001b[0;32mNone\u001b[0m\u001b[0;34m:\u001b[0m\u001b[0;34m\u001b[0m\u001b[0;34m\u001b[0m\u001b[0m\n\u001b[1;32m    763\u001b[0m         raise etree.ParserError(\n\u001b[0;32m--> 764\u001b[0;31m             \"Document is empty\")\n\u001b[0m\u001b[1;32m    765\u001b[0m     \u001b[0;32mif\u001b[0m \u001b[0mensure_head_body\u001b[0m \u001b[0;32mand\u001b[0m \u001b[0mvalue\u001b[0m\u001b[0;34m.\u001b[0m\u001b[0mfind\u001b[0m\u001b[0;34m(\u001b[0m\u001b[0;34m'head'\u001b[0m\u001b[0;34m)\u001b[0m \u001b[0;32mis\u001b[0m \u001b[0;32mNone\u001b[0m\u001b[0;34m:\u001b[0m\u001b[0;34m\u001b[0m\u001b[0;34m\u001b[0m\u001b[0m\n\u001b[1;32m    766\u001b[0m         \u001b[0mvalue\u001b[0m\u001b[0;34m.\u001b[0m\u001b[0minsert\u001b[0m\u001b[0;34m(\u001b[0m\u001b[0;36m0\u001b[0m\u001b[0;34m,\u001b[0m \u001b[0mElement\u001b[0m\u001b[0;34m(\u001b[0m\u001b[0;34m'head'\u001b[0m\u001b[0;34m)\u001b[0m\u001b[0;34m)\u001b[0m\u001b[0;34m\u001b[0m\u001b[0;34m\u001b[0m\u001b[0m\n",
      "\u001b[0;31mParserError\u001b[0m: Document is empty"
     ]
    }
   ],
   "source": [
    "diseases = []\n",
    "disease_names = []\n",
    "avoid_collections = [\"Human Cell Atlas\"]\n",
    "\n",
    "n_experiments = len(answer.json()['experiments'])\n",
    "\n",
    "for n, experiment in enumerate(answer.json()['experiments']):\n",
    "    print(f\"{n+1}/{n_experiments}\")\n",
    "\n",
    "    if [i for i in experiment[\"experimentProjects\"] if i in avoid_collections]:\n",
    "        clear_output(wait=True)\n",
    "        continue\n",
    "    \n",
    "    experiment_id = experiment['experimentAccession']\n",
    "    diseases_pro, disease_names_pro = get_terms_from_project(experiment_id=experiment_id, \n",
    "                                                             name_column='Sample Characteristic[disease]', \n",
    "                                                             ontology_column='Sample Characteristic Ontology Term[disease]')\n",
    "    \n",
    "    diseases += diseases_pro\n",
    "    disease_names += disease_names_pro\n",
    "               \n",
    "    clear_output(wait=True)\n",
    "\n",
    "df = pd.DataFrame(diseases)"
   ]
  },
  {
   "cell_type": "code",
   "execution_count": null,
   "metadata": {},
   "outputs": [],
   "source": [
    "df = df.drop_duplicates()"
   ]
  },
  {
   "cell_type": "code",
   "execution_count": null,
   "metadata": {
    "scrolled": true
   },
   "outputs": [],
   "source": [
    "df[df.isnull().any(axis=1)].name.tolist()"
   ]
  },
  {
   "cell_type": "code",
   "execution_count": null,
   "metadata": {},
   "outputs": [],
   "source": [
    "df[df['name'] == 'bronchioalveolar carcinoma']"
   ]
  },
  {
   "cell_type": "code",
   "execution_count": null,
   "metadata": {},
   "outputs": [],
   "source": [
    "from OntologyConversorSCAE import OntologyConversorSCAE\n",
    "\n",
    "conversor = OntologyConversorSCAE()"
   ]
  },
  {
   "cell_type": "code",
   "execution_count": null,
   "metadata": {},
   "outputs": [],
   "source": [
    "df['name'] = df['name'].apply(conversor.parse_word)\n",
    "df"
   ]
  },
  {
   "cell_type": "markdown",
   "metadata": {},
   "source": [
    "# HCA diseases"
   ]
  },
  {
   "cell_type": "code",
   "execution_count": null,
   "metadata": {},
   "outputs": [],
   "source": [
    "seed_url = \"https://service.azul.data.humancellatlas.org/index/projects?size=999&catalog=dcp1\""
   ]
  },
  {
   "cell_type": "code",
   "execution_count": null,
   "metadata": {},
   "outputs": [],
   "source": [
    "# User-Agent obtenido del recurso del curso.\n",
    "headers = {\n",
    "    \"user-agent\": \"Mozilla/5.0 (Macintosh; Intel Mac OS X 10_15_6) AppleWebKit/537.36 (KHTML, like Gecko) Chrome/85.0.4183.83 Safari/537.36\"\n",
    "}"
   ]
  },
  {
   "cell_type": "code",
   "execution_count": null,
   "metadata": {},
   "outputs": [],
   "source": [
    "answer = requests.get(seed_url, headers=headers)\n",
    "project_hits = answer.json()[\"hits\"]"
   ]
  },
  {
   "cell_type": "code",
   "execution_count": null,
   "metadata": {},
   "outputs": [],
   "source": [
    "projects = []\n",
    "accessing_error = []\n",
    "\n",
    "n_projects = len(project_hits)\n",
    "\n",
    "diseases = []\n",
    "\n",
    "for n, hit in enumerate(project_hits):\n",
    "    print(n)\n",
    "    \n",
    "    for item in hit['specimens']:\n",
    "        diseases += item['disease']\n",
    "        \n",
    "    clear_output(wait=True)\n",
    "    \n",
    "diseases = list(set(diseases))"
   ]
  },
  {
   "cell_type": "code",
   "execution_count": null,
   "metadata": {},
   "outputs": [],
   "source": [
    "diseases = [x for x in diseases if x is not None]\n",
    "diseases"
   ]
  },
  {
   "cell_type": "code",
   "execution_count": null,
   "metadata": {},
   "outputs": [],
   "source": [
    "diseases_URIs = list(map(get_URI_from_name, diseases))\n",
    "diseases_URIs"
   ]
  },
  {
   "cell_type": "code",
   "execution_count": null,
   "metadata": {},
   "outputs": [],
   "source": [
    "from OntologyConversorHCA import OntologyConversorHCA\n",
    "\n",
    "conversor = OntologyConversorHCA()"
   ]
  },
  {
   "cell_type": "code",
   "execution_count": null,
   "metadata": {},
   "outputs": [],
   "source": [
    "diseases = list(map(conversor.parse_word, diseases))\n",
    "diseases"
   ]
  },
  {
   "cell_type": "code",
   "execution_count": null,
   "metadata": {},
   "outputs": [],
   "source": [
    "rows = pd.DataFrame({'name': diseases, 'URI': diseases_URIs})\n",
    "rows"
   ]
  },
  {
   "cell_type": "code",
   "execution_count": null,
   "metadata": {},
   "outputs": [],
   "source": [
    "df = df.append(rows, ignore_index=True).drop_duplicates()\n",
    "df"
   ]
  },
  {
   "cell_type": "code",
   "execution_count": null,
   "metadata": {},
   "outputs": [],
   "source": [
    "df.to_csv('../SingleCell-Files/diseases_ontology.csv', index=False, header=False, sep='\\t')"
   ]
  }
 ],
 "metadata": {
  "kernelspec": {
   "display_name": "Python 3",
   "language": "python",
   "name": "python3"
  },
  "language_info": {
   "codemirror_mode": {
    "name": "ipython",
    "version": 3
   },
   "file_extension": ".py",
   "mimetype": "text/x-python",
   "name": "python",
   "nbconvert_exporter": "python",
   "pygments_lexer": "ipython3",
   "version": "3.7.3"
  }
 },
 "nbformat": 4,
 "nbformat_minor": 4
}
