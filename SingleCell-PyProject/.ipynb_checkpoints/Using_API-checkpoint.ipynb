{
 "cells": [
  {
   "cell_type": "code",
   "execution_count": 8,
   "metadata": {},
   "outputs": [],
   "source": [
    "import requests\n",
    "import pandas as pd"
   ]
  },
  {
   "cell_type": "code",
   "execution_count": 4,
   "metadata": {},
   "outputs": [],
   "source": [
    "url = \"http://194.4.103.244:5000/api/v1.0/projects/\""
   ]
  },
  {
   "cell_type": "code",
   "execution_count": 7,
   "metadata": {},
   "outputs": [
    {
     "data": {
      "text/plain": [
       "[{'project_id': 'p1',\n",
       "  'genes': [{'cell_types': [{'percentil': 81.9, 'name': 'cell_type1', 'id': 1},\n",
       "     {'percentil': 0.0, 'name': 'cell_type2', 'id': 2}],\n",
       "    'name': 'gene_name1',\n",
       "    'project_id': 'p1',\n",
       "    'id': 1},\n",
       "   {'cell_types': [{'percentil': 56.9, 'name': 'cell_type1', 'id': 3},\n",
       "     {'percentil': 98.0, 'name': 'cell_type2', 'id': 4}],\n",
       "    'name': 'gene_name2',\n",
       "    'project_id': 'p1',\n",
       "    'id': 2}],\n",
       "  'id': 1}]"
      ]
     },
     "execution_count": 7,
     "metadata": {},
     "output_type": "execute_result"
    }
   ],
   "source": [
    "requests.get(url).json()"
   ]
  },
  {
   "cell_type": "code",
   "execution_count": 14,
   "metadata": {},
   "outputs": [],
   "source": [
    "path = '../SingleCell-Files/percentiles/E-MTAB-4547.percentiles.csv'\n",
    "df = pd.read_csv(path)"
   ]
  },
  {
   "cell_type": "code",
   "execution_count": 16,
   "metadata": {},
   "outputs": [],
   "source": [
    "def df_to_dict(df, project_id):\n",
    "    df_dict = {\n",
    "        'project_id': project_id,\n",
    "        'genes': []\n",
    "    }\n",
    "    for _, row in df.iterrows():\n",
    "        \n",
    "        gene_dict = {\n",
    "            'gene_name': row['gen_name'],\n",
    "            'cell_types': []\n",
    "        }        \n",
    "        \n",
    "        print(row[1:])\n",
    "        return"
   ]
  },
  {
   "cell_type": "code",
   "execution_count": 17,
   "metadata": {},
   "outputs": [
    {
     "name": "stdout",
     "output_type": "stream",
     "text": [
      "dormant hematopoietic stem cell    93.236918\n",
      "hematopoietic stem cell            93.756435\n",
      "Name: 0, dtype: object\n"
     ]
    }
   ],
   "source": [
    "df_to_dict(df, 'project_id')"
   ]
  },
  {
   "cell_type": "code",
   "execution_count": null,
   "metadata": {},
   "outputs": [],
   "source": []
  }
 ],
 "metadata": {
  "kernelspec": {
   "display_name": "single-cell",
   "language": "python",
   "name": "single-cell"
  },
  "language_info": {
   "codemirror_mode": {
    "name": "ipython",
    "version": 3
   },
   "file_extension": ".py",
   "mimetype": "text/x-python",
   "name": "python",
   "nbconvert_exporter": "python",
   "pygments_lexer": "ipython3",
   "version": "3.8.6"
  }
 },
 "nbformat": 4,
 "nbformat_minor": 4
}
