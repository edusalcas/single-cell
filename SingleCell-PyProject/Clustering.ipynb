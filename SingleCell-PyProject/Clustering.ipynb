{
 "cells": [
  {
   "cell_type": "code",
   "execution_count": 7,
   "metadata": {},
   "outputs": [],
   "source": [
    "import requests\n",
    "import pandas as pd"
   ]
  },
  {
   "cell_type": "code",
   "execution_count": 8,
   "metadata": {},
   "outputs": [],
   "source": [
    "server_name = 'http://localhost:3030'\n",
    "service_name = 'ds'\n",
    "request_url = server_name + '/' + service_name"
   ]
  },
  {
   "cell_type": "markdown",
   "metadata": {},
   "source": [
    "## Getting familiar with the data"
   ]
  },
  {
   "cell_type": "code",
   "execution_count": 247,
   "metadata": {},
   "outputs": [],
   "source": [
    "query = '''\n",
    "PREFIX a: <http://www.semanticweb.org/alicia/ontologies/2020/8/singleCellRepositories#> \n",
    "PREFIX rdf: <http://www.w3.org/1999/02/22-rdf-syntax-ns#>\n",
    "SELECT\n",
    "    ?projectTitle\n",
    "    ?repository\n",
    "    ?projectSpecimens\n",
    "    (COUNT(*) AS ?numSpecimens)\n",
    "    (SUM(?numCells) AS ?numTotalCells)\n",
    "WHERE\n",
    "{\n",
    "    ?specimenID rdf:type a:Specimen ;\n",
    "                a:SPR.hasSpecie a:HomoSapiens ;\n",
    "                a:SPR.hasMinAge ?minAge ;\n",
    "                a:SPR.hasOrganismPart a:Blood ;\n",
    "                a:SPR.hasProjectTitle ?projectTitle ;\n",
    "                a:SPR.isPartOfRepository ?repository ;\n",
    "                a:SPR.hasTotalCellCount ?numCells .\n",
    "    ?projectID rdf:type a:Project ;\n",
    "               a:SPR.hasProjectTitle ?projectTitle ;\n",
    "               a:PR.hasSpecimenCount ?projectSpecimens\n",
    "    FILTER (?numCells != -1) .\n",
    "    FILTER (?minAge > 17) .\n",
    "}\n",
    "GROUP BY ?projectTitle ?repository ?projectSpecimens\n",
    "ORDER BY ?numTotalCells\n",
    "'''"
   ]
  },
  {
   "cell_type": "code",
   "execution_count": 248,
   "metadata": {
    "scrolled": true
   },
   "outputs": [
    {
     "data": {
      "text/html": [
       "<div>\n",
       "<style scoped>\n",
       "    .dataframe tbody tr th:only-of-type {\n",
       "        vertical-align: middle;\n",
       "    }\n",
       "\n",
       "    .dataframe tbody tr th {\n",
       "        vertical-align: top;\n",
       "    }\n",
       "\n",
       "    .dataframe thead th {\n",
       "        text-align: right;\n",
       "    }\n",
       "</style>\n",
       "<table border=\"1\" class=\"dataframe\">\n",
       "  <thead>\n",
       "    <tr style=\"text-align: right;\">\n",
       "      <th></th>\n",
       "      <th>projectTitle</th>\n",
       "      <th>repository</th>\n",
       "      <th>projectSpecimens</th>\n",
       "      <th>numSpecimens</th>\n",
       "      <th>numTotalCells</th>\n",
       "    </tr>\n",
       "  </thead>\n",
       "  <tbody>\n",
       "    <tr>\n",
       "      <th>0</th>\n",
       "      <td>Transcriptomic profiling of antigen-specific T...</td>\n",
       "      <td>SingleCellExpresionAtlas</td>\n",
       "      <td>2</td>\n",
       "      <td>2</td>\n",
       "      <td>72</td>\n",
       "    </tr>\n",
       "    <tr>\n",
       "      <th>1</th>\n",
       "      <td>Single cell RNA-sequencing of PBMC derived B c...</td>\n",
       "      <td>SingleCellExpresionAtlas</td>\n",
       "      <td>1</td>\n",
       "      <td>1</td>\n",
       "      <td>117</td>\n",
       "    </tr>\n",
       "    <tr>\n",
       "      <th>2</th>\n",
       "      <td>Single-cell RNAseq of Human T lymphocyte deriv...</td>\n",
       "      <td>SingleCellExpresionAtlas</td>\n",
       "      <td>2</td>\n",
       "      <td>2</td>\n",
       "      <td>119</td>\n",
       "    </tr>\n",
       "    <tr>\n",
       "      <th>3</th>\n",
       "      <td>Single cell RNA seq of influenza tetramer spec...</td>\n",
       "      <td>SingleCellExpresionAtlas</td>\n",
       "      <td>1</td>\n",
       "      <td>1</td>\n",
       "      <td>210</td>\n",
       "    </tr>\n",
       "    <tr>\n",
       "      <th>4</th>\n",
       "      <td>Precursors of human CD4+ cytotoxic T lymphocyt...</td>\n",
       "      <td>HumanCellAtlas</td>\n",
       "      <td>28</td>\n",
       "      <td>28</td>\n",
       "      <td>2244</td>\n",
       "    </tr>\n",
       "    <tr>\n",
       "      <th>5</th>\n",
       "      <td>RNA-seq of RBC depleted whole blood from COVID...</td>\n",
       "      <td>SingleCellExpresionAtlas</td>\n",
       "      <td>7</td>\n",
       "      <td>6</td>\n",
       "      <td>5977</td>\n",
       "    </tr>\n",
       "    <tr>\n",
       "      <th>6</th>\n",
       "      <td>Immune landscape of viral- and carcinogen-deri...</td>\n",
       "      <td>SingleCellExpresionAtlas</td>\n",
       "      <td>63</td>\n",
       "      <td>32</td>\n",
       "      <td>61675</td>\n",
       "    </tr>\n",
       "    <tr>\n",
       "      <th>7</th>\n",
       "      <td>A single-cell atlas of the peripheral immune r...</td>\n",
       "      <td>SingleCellExpresionAtlas</td>\n",
       "      <td>12</td>\n",
       "      <td>12</td>\n",
       "      <td>92783</td>\n",
       "    </tr>\n",
       "  </tbody>\n",
       "</table>\n",
       "</div>"
      ],
      "text/plain": [
       "                                        projectTitle  \\\n",
       "0  Transcriptomic profiling of antigen-specific T...   \n",
       "1  Single cell RNA-sequencing of PBMC derived B c...   \n",
       "2  Single-cell RNAseq of Human T lymphocyte deriv...   \n",
       "3  Single cell RNA seq of influenza tetramer spec...   \n",
       "4  Precursors of human CD4+ cytotoxic T lymphocyt...   \n",
       "5  RNA-seq of RBC depleted whole blood from COVID...   \n",
       "6  Immune landscape of viral- and carcinogen-deri...   \n",
       "7  A single-cell atlas of the peripheral immune r...   \n",
       "\n",
       "                 repository projectSpecimens numSpecimens numTotalCells  \n",
       "0  SingleCellExpresionAtlas                2            2            72  \n",
       "1  SingleCellExpresionAtlas                1            1           117  \n",
       "2  SingleCellExpresionAtlas                2            2           119  \n",
       "3  SingleCellExpresionAtlas                1            1           210  \n",
       "4            HumanCellAtlas               28           28          2244  \n",
       "5  SingleCellExpresionAtlas                7            6          5977  \n",
       "6  SingleCellExpresionAtlas               63           32         61675  \n",
       "7  SingleCellExpresionAtlas               12           12         92783  "
      ]
     },
     "execution_count": 248,
     "metadata": {},
     "output_type": "execute_result"
    }
   ],
   "source": [
    "response = requests.post(request_url,\n",
    "       data={'query': query})\n",
    "\n",
    "# print(response.text)\n",
    "\n",
    "headers = response.json()[\"head\"][\"vars\"]\n",
    "results = response.json()[\"results\"]\n",
    "\n",
    "rows = []\n",
    "\n",
    "for result in response.json()[\"results\"][\"bindings\"]:\n",
    "    result_dict = {}\n",
    "    for header in headers:\n",
    "        result_dict[header] = result[header]['value']\n",
    "        \n",
    "    rows.append(result_dict)\n",
    "\n",
    "df = pd.DataFrame(rows)\n",
    "df"
   ]
  },
  {
   "cell_type": "markdown",
   "metadata": {},
   "source": [
    "## Common metadata between projects"
   ]
  },
  {
   "cell_type": "code",
   "execution_count": 9,
   "metadata": {},
   "outputs": [],
   "source": [
    "query = '''\n",
    "PREFIX a: <http://www.semanticweb.org/alicia/ontologies/2020/8/singleCellRepositories#> \n",
    "PREFIX rdf: <http://www.w3.org/1999/02/22-rdf-syntax-ns#>\n",
    "SELECT\n",
    "    ?projectID\n",
    "    ?projectTitle\n",
    "    ?repository\n",
    "    (COUNT(*) AS ?numSpecimens)\n",
    "    (SUM(?numCells) AS ?numTotalCells)\n",
    "    ?relation\n",
    "WHERE\n",
    "{\n",
    "    ?specimenID rdf:type a:Specimen ;\n",
    "                a:SPR.hasSpecie a:HomoSapiens ;\n",
    "                a:SPR.hasMinAge ?minAge ;\n",
    "                a:SPR.hasOrganismPart a:Blood ;\n",
    "                a:SPR.hasProjectTitle ?projectTitle ;\n",
    "                a:SPR.isPartOfRepository ?repository ;\n",
    "                a:SPR.hasTotalCellCount ?numCells ;\n",
    "                ?relation ?value .\n",
    "    ?project rdf:type a:Project ;\n",
    "             a:SPR.hasProjectTitle ?projectTitle ;\n",
    "             a:PR.hasProjectID ?projectID .\n",
    "    FILTER (?numCells != -1) .\n",
    "    FILTER (?minAge > 17) .\n",
    "}\n",
    "GROUP BY ?projectID ?projectTitle ?repository ?relation\n",
    "'''"
   ]
  },
  {
   "cell_type": "code",
   "execution_count": 10,
   "metadata": {},
   "outputs": [],
   "source": [
    "response = requests.post(request_url,\n",
    "       data={'query': query})\n",
    "\n",
    "# print(response.text)\n",
    "\n",
    "headers = response.json()[\"head\"][\"vars\"]\n",
    "results = response.json()[\"results\"]\n",
    "\n",
    "rows = []\n",
    "\n",
    "for result in response.json()[\"results\"][\"bindings\"]:\n",
    "    result_dict = {}\n",
    "    for header in headers:\n",
    "        result_dict[header] = result[header]['value']\n",
    "        \n",
    "    rows.append(result_dict)\n",
    "\n",
    "df = pd.DataFrame(rows)"
   ]
  },
  {
   "cell_type": "code",
   "execution_count": 11,
   "metadata": {},
   "outputs": [
    {
     "data": {
      "text/html": [
       "<div>\n",
       "<style scoped>\n",
       "    .dataframe tbody tr th:only-of-type {\n",
       "        vertical-align: middle;\n",
       "    }\n",
       "\n",
       "    .dataframe tbody tr th {\n",
       "        vertical-align: top;\n",
       "    }\n",
       "\n",
       "    .dataframe thead th {\n",
       "        text-align: right;\n",
       "    }\n",
       "</style>\n",
       "<table border=\"1\" class=\"dataframe\">\n",
       "  <thead>\n",
       "    <tr style=\"text-align: right;\">\n",
       "      <th></th>\n",
       "      <th>projectID</th>\n",
       "      <th>projectTitle</th>\n",
       "      <th>repository</th>\n",
       "      <th>numSpecimens</th>\n",
       "      <th>numTotalCells</th>\n",
       "      <th>relation</th>\n",
       "    </tr>\n",
       "  </thead>\n",
       "  <tbody>\n",
       "    <tr>\n",
       "      <th>66</th>\n",
       "      <td>E-MTAB-4850</td>\n",
       "      <td>Transcriptomic profiling of antigen-specific T...</td>\n",
       "      <td>SingleCellExpresionAtlas</td>\n",
       "      <td>2</td>\n",
       "      <td>72</td>\n",
       "      <td>SPR.hasOrganismPart</td>\n",
       "    </tr>\n",
       "    <tr>\n",
       "      <th>61</th>\n",
       "      <td>E-MTAB-4850</td>\n",
       "      <td>Transcriptomic profiling of antigen-specific T...</td>\n",
       "      <td>SingleCellExpresionAtlas</td>\n",
       "      <td>2</td>\n",
       "      <td>72</td>\n",
       "      <td>SPR.hasTotalCellCount</td>\n",
       "    </tr>\n",
       "    <tr>\n",
       "      <th>117</th>\n",
       "      <td>E-MTAB-4850</td>\n",
       "      <td>Transcriptomic profiling of antigen-specific T...</td>\n",
       "      <td>SingleCellExpresionAtlas</td>\n",
       "      <td>2</td>\n",
       "      <td>72</td>\n",
       "      <td>SPR.isPartOfRepository</td>\n",
       "    </tr>\n",
       "    <tr>\n",
       "      <th>46</th>\n",
       "      <td>E-MTAB-4850</td>\n",
       "      <td>Transcriptomic profiling of antigen-specific T...</td>\n",
       "      <td>SingleCellExpresionAtlas</td>\n",
       "      <td>2</td>\n",
       "      <td>72</td>\n",
       "      <td>SPR.hasMaxAge</td>\n",
       "    </tr>\n",
       "    <tr>\n",
       "      <th>114</th>\n",
       "      <td>E-MTAB-4850</td>\n",
       "      <td>Transcriptomic profiling of antigen-specific T...</td>\n",
       "      <td>SingleCellExpresionAtlas</td>\n",
       "      <td>2</td>\n",
       "      <td>72</td>\n",
       "      <td>SPR.hasSpecie</td>\n",
       "    </tr>\n",
       "    <tr>\n",
       "      <th>...</th>\n",
       "      <td>...</td>\n",
       "      <td>...</td>\n",
       "      <td>...</td>\n",
       "      <td>...</td>\n",
       "      <td>...</td>\n",
       "      <td>...</td>\n",
       "    </tr>\n",
       "    <tr>\n",
       "      <th>38</th>\n",
       "      <td>E-GEOD-150728</td>\n",
       "      <td>A single-cell atlas of the peripheral immune r...</td>\n",
       "      <td>SingleCellExpresionAtlas</td>\n",
       "      <td>12</td>\n",
       "      <td>92783</td>\n",
       "      <td>SPR.isPartOfCollection</td>\n",
       "    </tr>\n",
       "    <tr>\n",
       "      <th>34</th>\n",
       "      <td>E-GEOD-150728</td>\n",
       "      <td>A single-cell atlas of the peripheral immune r...</td>\n",
       "      <td>SingleCellExpresionAtlas</td>\n",
       "      <td>12</td>\n",
       "      <td>92783</td>\n",
       "      <td>type</td>\n",
       "    </tr>\n",
       "    <tr>\n",
       "      <th>17</th>\n",
       "      <td>E-GEOD-150728</td>\n",
       "      <td>A single-cell atlas of the peripheral immune r...</td>\n",
       "      <td>SingleCellExpresionAtlas</td>\n",
       "      <td>12</td>\n",
       "      <td>92783</td>\n",
       "      <td>SPR.hasCellType</td>\n",
       "    </tr>\n",
       "    <tr>\n",
       "      <th>6</th>\n",
       "      <td>E-GEOD-150728</td>\n",
       "      <td>A single-cell atlas of the peripheral immune r...</td>\n",
       "      <td>SingleCellExpresionAtlas</td>\n",
       "      <td>12</td>\n",
       "      <td>92783</td>\n",
       "      <td>SPR.hasMinAge</td>\n",
       "    </tr>\n",
       "    <tr>\n",
       "      <th>128</th>\n",
       "      <td>E-GEOD-150728</td>\n",
       "      <td>A single-cell atlas of the peripheral immune r...</td>\n",
       "      <td>SingleCellExpresionAtlas</td>\n",
       "      <td>12</td>\n",
       "      <td>92783</td>\n",
       "      <td>SPR.hasSampleType</td>\n",
       "    </tr>\n",
       "  </tbody>\n",
       "</table>\n",
       "<p>129 rows × 6 columns</p>\n",
       "</div>"
      ],
      "text/plain": [
       "         projectID                                       projectTitle  \\\n",
       "66     E-MTAB-4850  Transcriptomic profiling of antigen-specific T...   \n",
       "61     E-MTAB-4850  Transcriptomic profiling of antigen-specific T...   \n",
       "117    E-MTAB-4850  Transcriptomic profiling of antigen-specific T...   \n",
       "46     E-MTAB-4850  Transcriptomic profiling of antigen-specific T...   \n",
       "114    E-MTAB-4850  Transcriptomic profiling of antigen-specific T...   \n",
       "..             ...                                                ...   \n",
       "38   E-GEOD-150728  A single-cell atlas of the peripheral immune r...   \n",
       "34   E-GEOD-150728  A single-cell atlas of the peripheral immune r...   \n",
       "17   E-GEOD-150728  A single-cell atlas of the peripheral immune r...   \n",
       "6    E-GEOD-150728  A single-cell atlas of the peripheral immune r...   \n",
       "128  E-GEOD-150728  A single-cell atlas of the peripheral immune r...   \n",
       "\n",
       "                   repository numSpecimens  numTotalCells  \\\n",
       "66   SingleCellExpresionAtlas            2             72   \n",
       "61   SingleCellExpresionAtlas            2             72   \n",
       "117  SingleCellExpresionAtlas            2             72   \n",
       "46   SingleCellExpresionAtlas            2             72   \n",
       "114  SingleCellExpresionAtlas            2             72   \n",
       "..                        ...          ...            ...   \n",
       "38   SingleCellExpresionAtlas           12          92783   \n",
       "34   SingleCellExpresionAtlas           12          92783   \n",
       "17   SingleCellExpresionAtlas           12          92783   \n",
       "6    SingleCellExpresionAtlas           12          92783   \n",
       "128  SingleCellExpresionAtlas           12          92783   \n",
       "\n",
       "                   relation  \n",
       "66      SPR.hasOrganismPart  \n",
       "61    SPR.hasTotalCellCount  \n",
       "117  SPR.isPartOfRepository  \n",
       "46            SPR.hasMaxAge  \n",
       "114           SPR.hasSpecie  \n",
       "..                      ...  \n",
       "38   SPR.isPartOfCollection  \n",
       "34                     type  \n",
       "17          SPR.hasCellType  \n",
       "6             SPR.hasMinAge  \n",
       "128       SPR.hasSampleType  \n",
       "\n",
       "[129 rows x 6 columns]"
      ]
     },
     "execution_count": 11,
     "metadata": {},
     "output_type": "execute_result"
    }
   ],
   "source": [
    "df[\"numTotalCells\"] = pd.to_numeric(df[\"numTotalCells\"])\n",
    "df['relation'] = df['relation'].apply(lambda x: x.split('#')[1])\n",
    "df = df.sort_values(by=['projectTitle'], ascending=False)\n",
    "df"
   ]
  },
  {
   "cell_type": "code",
   "execution_count": 254,
   "metadata": {},
   "outputs": [
    {
     "name": "stdout",
     "output_type": "stream",
     "text": [
      "{'SPR.hasTotalCellCount', 'SR.hasSpecimenID', 'SPR.hasSpecie', 'SPR.hasSampleType', 'SPR.hasMinAge', 'SPR.hasAgeUnit', 'SPR.hasTotalSizeOfFilesInMB', 'SPR.hasInstrument', 'SPR.isPartOfCollection', 'SPR.hasMaxAge', 'SPR.hasPreservation', 'SPR.hasProjectTitle', 'SPR.hasOrganismPart', 'SPR.hasBiopsySite', 'SPR.hasDisease', 'SPR.hasLaboratory', 'SPR.hasCellType', 'SPR.isPartOfRepository', 'SPR.hasProjectShortName', 'SPR.hasSex', 'SPR.isPairedEnd', 'SPR.hasLibrary'}\n"
     ]
    }
   ],
   "source": [
    "all_columns = set()\n",
    "for project_title in df['projectTitle'].unique():\n",
    "    project_columns = df[df['projectTitle'] == project_title]['relation']\n",
    "    all_columns.update(list(project_columns))\n",
    "\n",
    "all_columns.remove('type')\n",
    "\n",
    "print(all_columns)"
   ]
  },
  {
   "cell_type": "code",
   "execution_count": 88,
   "metadata": {
    "scrolled": false
   },
   "outputs": [
    {
     "data": {
      "text/html": [
       "<div>\n",
       "<style scoped>\n",
       "    .dataframe tbody tr th:only-of-type {\n",
       "        vertical-align: middle;\n",
       "    }\n",
       "\n",
       "    .dataframe tbody tr th {\n",
       "        vertical-align: top;\n",
       "    }\n",
       "\n",
       "    .dataframe thead th {\n",
       "        text-align: right;\n",
       "    }\n",
       "</style>\n",
       "<table border=\"1\" class=\"dataframe\">\n",
       "  <thead>\n",
       "    <tr style=\"text-align: right;\">\n",
       "      <th></th>\n",
       "      <th>project_title</th>\n",
       "      <th>SPR.hasTotalCellCount</th>\n",
       "      <th>SR.hasSpecimenID</th>\n",
       "      <th>SPR.hasSpecie</th>\n",
       "      <th>SPR.hasSampleType</th>\n",
       "      <th>SPR.hasMinAge</th>\n",
       "      <th>SPR.hasAgeUnit</th>\n",
       "      <th>SPR.hasTotalSizeOfFilesInMB</th>\n",
       "      <th>SPR.hasInstrument</th>\n",
       "      <th>SPR.isPartOfCollection</th>\n",
       "      <th>...</th>\n",
       "      <th>SPR.hasOrganismPart</th>\n",
       "      <th>SPR.hasBiopsySite</th>\n",
       "      <th>SPR.hasDisease</th>\n",
       "      <th>SPR.hasLaboratory</th>\n",
       "      <th>SPR.hasCellType</th>\n",
       "      <th>SPR.isPartOfRepository</th>\n",
       "      <th>SPR.hasProjectShortName</th>\n",
       "      <th>SPR.hasSex</th>\n",
       "      <th>SPR.isPairedEnd</th>\n",
       "      <th>SPR.hasLibrary</th>\n",
       "    </tr>\n",
       "  </thead>\n",
       "  <tbody>\n",
       "    <tr>\n",
       "      <th>0</th>\n",
       "      <td>Transcriptomic profiling of antigen-specific T...</td>\n",
       "      <td>True</td>\n",
       "      <td>False</td>\n",
       "      <td>True</td>\n",
       "      <td>True</td>\n",
       "      <td>True</td>\n",
       "      <td>True</td>\n",
       "      <td>True</td>\n",
       "      <td>False</td>\n",
       "      <td>False</td>\n",
       "      <td>...</td>\n",
       "      <td>True</td>\n",
       "      <td>False</td>\n",
       "      <td>True</td>\n",
       "      <td>False</td>\n",
       "      <td>True</td>\n",
       "      <td>True</td>\n",
       "      <td>False</td>\n",
       "      <td>True</td>\n",
       "      <td>False</td>\n",
       "      <td>False</td>\n",
       "    </tr>\n",
       "    <tr>\n",
       "      <th>1</th>\n",
       "      <td>Single-cell RNAseq of Human T lymphocyte deriv...</td>\n",
       "      <td>True</td>\n",
       "      <td>True</td>\n",
       "      <td>True</td>\n",
       "      <td>True</td>\n",
       "      <td>True</td>\n",
       "      <td>True</td>\n",
       "      <td>True</td>\n",
       "      <td>False</td>\n",
       "      <td>False</td>\n",
       "      <td>...</td>\n",
       "      <td>True</td>\n",
       "      <td>False</td>\n",
       "      <td>True</td>\n",
       "      <td>False</td>\n",
       "      <td>True</td>\n",
       "      <td>True</td>\n",
       "      <td>False</td>\n",
       "      <td>True</td>\n",
       "      <td>False</td>\n",
       "      <td>False</td>\n",
       "    </tr>\n",
       "    <tr>\n",
       "      <th>2</th>\n",
       "      <td>Single cell RNA-sequencing of PBMC derived B c...</td>\n",
       "      <td>True</td>\n",
       "      <td>True</td>\n",
       "      <td>True</td>\n",
       "      <td>True</td>\n",
       "      <td>True</td>\n",
       "      <td>True</td>\n",
       "      <td>True</td>\n",
       "      <td>False</td>\n",
       "      <td>False</td>\n",
       "      <td>...</td>\n",
       "      <td>True</td>\n",
       "      <td>False</td>\n",
       "      <td>True</td>\n",
       "      <td>False</td>\n",
       "      <td>True</td>\n",
       "      <td>True</td>\n",
       "      <td>False</td>\n",
       "      <td>True</td>\n",
       "      <td>False</td>\n",
       "      <td>False</td>\n",
       "    </tr>\n",
       "    <tr>\n",
       "      <th>3</th>\n",
       "      <td>Single cell RNA seq of influenza tetramer spec...</td>\n",
       "      <td>True</td>\n",
       "      <td>True</td>\n",
       "      <td>True</td>\n",
       "      <td>True</td>\n",
       "      <td>True</td>\n",
       "      <td>True</td>\n",
       "      <td>True</td>\n",
       "      <td>False</td>\n",
       "      <td>False</td>\n",
       "      <td>...</td>\n",
       "      <td>True</td>\n",
       "      <td>False</td>\n",
       "      <td>False</td>\n",
       "      <td>False</td>\n",
       "      <td>True</td>\n",
       "      <td>True</td>\n",
       "      <td>False</td>\n",
       "      <td>True</td>\n",
       "      <td>False</td>\n",
       "      <td>False</td>\n",
       "    </tr>\n",
       "    <tr>\n",
       "      <th>4</th>\n",
       "      <td>RNA-seq of RBC depleted whole blood from COVID...</td>\n",
       "      <td>True</td>\n",
       "      <td>True</td>\n",
       "      <td>True</td>\n",
       "      <td>True</td>\n",
       "      <td>True</td>\n",
       "      <td>True</td>\n",
       "      <td>True</td>\n",
       "      <td>False</td>\n",
       "      <td>True</td>\n",
       "      <td>...</td>\n",
       "      <td>True</td>\n",
       "      <td>False</td>\n",
       "      <td>True</td>\n",
       "      <td>False</td>\n",
       "      <td>False</td>\n",
       "      <td>True</td>\n",
       "      <td>False</td>\n",
       "      <td>True</td>\n",
       "      <td>False</td>\n",
       "      <td>False</td>\n",
       "    </tr>\n",
       "    <tr>\n",
       "      <th>5</th>\n",
       "      <td>Precursors of human CD4+ cytotoxic T lymphocyt...</td>\n",
       "      <td>True</td>\n",
       "      <td>True</td>\n",
       "      <td>True</td>\n",
       "      <td>True</td>\n",
       "      <td>True</td>\n",
       "      <td>True</td>\n",
       "      <td>True</td>\n",
       "      <td>True</td>\n",
       "      <td>True</td>\n",
       "      <td>...</td>\n",
       "      <td>True</td>\n",
       "      <td>True</td>\n",
       "      <td>True</td>\n",
       "      <td>True</td>\n",
       "      <td>True</td>\n",
       "      <td>True</td>\n",
       "      <td>True</td>\n",
       "      <td>True</td>\n",
       "      <td>True</td>\n",
       "      <td>True</td>\n",
       "    </tr>\n",
       "    <tr>\n",
       "      <th>6</th>\n",
       "      <td>Immune landscape of viral- and carcinogen-deri...</td>\n",
       "      <td>True</td>\n",
       "      <td>True</td>\n",
       "      <td>True</td>\n",
       "      <td>True</td>\n",
       "      <td>True</td>\n",
       "      <td>True</td>\n",
       "      <td>True</td>\n",
       "      <td>False</td>\n",
       "      <td>False</td>\n",
       "      <td>...</td>\n",
       "      <td>True</td>\n",
       "      <td>True</td>\n",
       "      <td>True</td>\n",
       "      <td>False</td>\n",
       "      <td>True</td>\n",
       "      <td>True</td>\n",
       "      <td>False</td>\n",
       "      <td>True</td>\n",
       "      <td>False</td>\n",
       "      <td>False</td>\n",
       "    </tr>\n",
       "    <tr>\n",
       "      <th>7</th>\n",
       "      <td>A single-cell atlas of the peripheral immune r...</td>\n",
       "      <td>True</td>\n",
       "      <td>True</td>\n",
       "      <td>True</td>\n",
       "      <td>True</td>\n",
       "      <td>True</td>\n",
       "      <td>True</td>\n",
       "      <td>True</td>\n",
       "      <td>False</td>\n",
       "      <td>True</td>\n",
       "      <td>...</td>\n",
       "      <td>True</td>\n",
       "      <td>False</td>\n",
       "      <td>True</td>\n",
       "      <td>False</td>\n",
       "      <td>True</td>\n",
       "      <td>True</td>\n",
       "      <td>False</td>\n",
       "      <td>True</td>\n",
       "      <td>False</td>\n",
       "      <td>False</td>\n",
       "    </tr>\n",
       "  </tbody>\n",
       "</table>\n",
       "<p>8 rows × 23 columns</p>\n",
       "</div>"
      ],
      "text/plain": [
       "                                       project_title SPR.hasTotalCellCount  \\\n",
       "0  Transcriptomic profiling of antigen-specific T...                  True   \n",
       "1  Single-cell RNAseq of Human T lymphocyte deriv...                  True   \n",
       "2  Single cell RNA-sequencing of PBMC derived B c...                  True   \n",
       "3  Single cell RNA seq of influenza tetramer spec...                  True   \n",
       "4  RNA-seq of RBC depleted whole blood from COVID...                  True   \n",
       "5  Precursors of human CD4+ cytotoxic T lymphocyt...                  True   \n",
       "6  Immune landscape of viral- and carcinogen-deri...                  True   \n",
       "7  A single-cell atlas of the peripheral immune r...                  True   \n",
       "\n",
       "  SR.hasSpecimenID SPR.hasSpecie SPR.hasSampleType SPR.hasMinAge  \\\n",
       "0            False          True              True          True   \n",
       "1             True          True              True          True   \n",
       "2             True          True              True          True   \n",
       "3             True          True              True          True   \n",
       "4             True          True              True          True   \n",
       "5             True          True              True          True   \n",
       "6             True          True              True          True   \n",
       "7             True          True              True          True   \n",
       "\n",
       "  SPR.hasAgeUnit SPR.hasTotalSizeOfFilesInMB SPR.hasInstrument  \\\n",
       "0           True                        True             False   \n",
       "1           True                        True             False   \n",
       "2           True                        True             False   \n",
       "3           True                        True             False   \n",
       "4           True                        True             False   \n",
       "5           True                        True              True   \n",
       "6           True                        True             False   \n",
       "7           True                        True             False   \n",
       "\n",
       "  SPR.isPartOfCollection  ... SPR.hasOrganismPart SPR.hasBiopsySite  \\\n",
       "0                  False  ...                True             False   \n",
       "1                  False  ...                True             False   \n",
       "2                  False  ...                True             False   \n",
       "3                  False  ...                True             False   \n",
       "4                   True  ...                True             False   \n",
       "5                   True  ...                True              True   \n",
       "6                  False  ...                True              True   \n",
       "7                   True  ...                True             False   \n",
       "\n",
       "  SPR.hasDisease SPR.hasLaboratory SPR.hasCellType SPR.isPartOfRepository  \\\n",
       "0           True             False            True                   True   \n",
       "1           True             False            True                   True   \n",
       "2           True             False            True                   True   \n",
       "3          False             False            True                   True   \n",
       "4           True             False           False                   True   \n",
       "5           True              True            True                   True   \n",
       "6           True             False            True                   True   \n",
       "7           True             False            True                   True   \n",
       "\n",
       "  SPR.hasProjectShortName SPR.hasSex SPR.isPairedEnd SPR.hasLibrary  \n",
       "0                   False       True           False          False  \n",
       "1                   False       True           False          False  \n",
       "2                   False       True           False          False  \n",
       "3                   False       True           False          False  \n",
       "4                   False       True           False          False  \n",
       "5                    True       True            True           True  \n",
       "6                   False       True           False          False  \n",
       "7                   False       True           False          False  \n",
       "\n",
       "[8 rows x 23 columns]"
      ]
     },
     "execution_count": 88,
     "metadata": {},
     "output_type": "execute_result"
    }
   ],
   "source": [
    "df_relations = pd.DataFrame(columns= ['project_title'] + list(all_columns))\n",
    "\n",
    "for project_title in df['projectTitle'].unique():\n",
    "    project_columns = df[df['projectTitle'] == project_title]['relation']\n",
    "    row = dict(zip(['project_title'] + list(all_columns) , [project_title] + [False] * len(all_columns)))\n",
    "    for project_column in project_columns:\n",
    "        row[project_column] = True\n",
    "        \n",
    "    df_relations = df_relations.append(row, ignore_index=True)\n",
    "df_relations = df_relations.drop(['type'], axis=1)\n",
    "df_relations"
   ]
  },
  {
   "cell_type": "code",
   "execution_count": 89,
   "metadata": {},
   "outputs": [
    {
     "data": {
      "text/plain": [
       "project_title                   True\n",
       "SPR.hasTotalCellCount           True\n",
       "SR.hasSpecimenID               False\n",
       "SPR.hasSpecie                   True\n",
       "SPR.hasSampleType               True\n",
       "SPR.hasMinAge                   True\n",
       "SPR.hasAgeUnit                  True\n",
       "SPR.hasTotalSizeOfFilesInMB     True\n",
       "SPR.hasInstrument              False\n",
       "SPR.isPartOfCollection         False\n",
       "SPR.hasMaxAge                   True\n",
       "SPR.hasPreservation            False\n",
       "SPR.hasProjectTitle             True\n",
       "SPR.hasOrganismPart             True\n",
       "SPR.hasBiopsySite              False\n",
       "SPR.hasDisease                 False\n",
       "SPR.hasLaboratory              False\n",
       "SPR.hasCellType                False\n",
       "SPR.isPartOfRepository          True\n",
       "SPR.hasProjectShortName        False\n",
       "SPR.hasSex                      True\n",
       "SPR.isPairedEnd                False\n",
       "SPR.hasLibrary                 False\n",
       "dtype: bool"
      ]
     },
     "execution_count": 89,
     "metadata": {},
     "output_type": "execute_result"
    }
   ],
   "source": [
    "df_relations.all()"
   ]
  },
  {
   "cell_type": "code",
   "execution_count": 87,
   "metadata": {},
   "outputs": [
    {
     "name": "stdout",
     "output_type": "stream",
     "text": [
      "{'SPR.hasTotalCellCount', 'SPR.hasTotalSizeOfFilesInMB', 'SPR.isPartOfRepository', 'SPR.hasSpecie', 'SPR.hasMaxAge', 'SPR.hasSex', 'SPR.hasSampleType', 'SPR.hasMinAge', 'SPR.hasAgeUnit', 'SPR.hasProjectTitle', 'SPR.hasOrganismPart'}\n"
     ]
    }
   ],
   "source": [
    "intersect_columns = set()\n",
    "for project_title in df['projectTitle'].unique():\n",
    "    project_columns = df[df['projectTitle'] == project_title]['relation']\n",
    "    \n",
    "    if not intersect_columns:\n",
    "        intersect_columns = set(project_columns)\n",
    "        continue\n",
    "    \n",
    "    intersect_columns = intersect_columns.intersection(set(project_columns))\n",
    "    \n",
    "intersect_columns.remove('type')\n",
    "    \n",
    "print(intersect_columns)"
   ]
  },
  {
   "cell_type": "markdown",
   "metadata": {},
   "source": [
    "## Download the data from the projects"
   ]
  },
  {
   "cell_type": "code",
   "execution_count": 13,
   "metadata": {},
   "outputs": [],
   "source": [
    "def get_data(project):\n",
    "    query = '''\n",
    "        PREFIX a: <http://www.semanticweb.org/alicia/ontologies/2020/8/singleCellRepositories#> \n",
    "        PREFIX rdf: <http://www.w3.org/1999/02/22-rdf-syntax-ns#>\n",
    "        SELECT \n",
    "            ?normalisedCountsLink\n",
    "        WHERE\n",
    "        {\n",
    "        '''\\\n",
    "        + \\\n",
    "        f'''\n",
    "            ?projectID rdf:type a:Project ;\n",
    "                       a:SPR.hasProjectTitle \"{project}\" ;\n",
    "                       a:SPR.hasNormalisedCountsLink ?normalisedCountsLink .\n",
    "        '''\\\n",
    "        +\\\n",
    "        '''      \n",
    "        }\n",
    "    '''\n",
    "    response = requests.post(request_url,\n",
    "       data={'query': query})\n",
    "    \n",
    "    if response.json()['results']['bindings']:\n",
    "        return response.json()['results']['bindings'][0]['normalisedCountsLink']['value']\n",
    "    else:\n",
    "        return None\n",
    "    "
   ]
  },
  {
   "cell_type": "code",
   "execution_count": 14,
   "metadata": {
    "scrolled": true
   },
   "outputs": [
    {
     "name": "stdout",
     "output_type": "stream",
     "text": [
      "Transcriptomic profiling of antigen-specific T cells at the single-cell level after clearance of hepatitis C virus\n",
      "E-MTAB-4850\n",
      "https://www.ebi.ac.uk/gxa/sc/experiment/E-MTAB-4850/download/zip?fileType=normalised&accessKey=\n",
      "Single-cell RNAseq of Human T lymphocyte derived from H7N9 infected patients\n",
      "E-MTAB-6379\n",
      "https://www.ebi.ac.uk/gxa/sc/experiment/E-MTAB-6379/download/zip?fileType=normalised&accessKey=\n",
      "Single cell RNA-sequencing of PBMC derived B cells from human healthy donor\n",
      "E-MTAB-6386\n",
      "https://www.ebi.ac.uk/gxa/sc/experiment/E-MTAB-6386/download/zip?fileType=normalised&accessKey=\n",
      "Single cell RNA seq of influenza tetramer specific CD8+ T cells from baseline, acute and long term memory timepoints\n",
      "E-MTAB-7606\n",
      "https://www.ebi.ac.uk/gxa/sc/experiment/E-MTAB-7606/download/zip?fileType=normalised&accessKey=\n",
      "RNA-seq of RBC depleted whole blood from COVID-19 patients and controls\n",
      "E-MTAB-9221\n",
      "https://www.ebi.ac.uk/gxa/sc/experiment/E-MTAB-9221/download/zip?fileType=normalised&accessKey=\n",
      "Precursors of human CD4+ cytotoxic T lymphocytes identified by single-cell transcriptome analysis\n",
      "90bd6933-40c0-48d4-8d76-778c103bf545\n",
      "None\n",
      "Immune landscape of viral- and carcinogen-derived head and neck cancer\n",
      "E-GEOD-139324\n",
      "https://www.ebi.ac.uk/gxa/sc/experiment/E-GEOD-139324/download/zip?fileType=normalised&accessKey=\n",
      "A single-cell atlas of the peripheral immune response to severe COVID-19\n",
      "E-GEOD-150728\n",
      "https://www.ebi.ac.uk/gxa/sc/experiment/E-GEOD-150728/download/zip?fileType=normalised&accessKey=\n"
     ]
    }
   ],
   "source": [
    "from pprint import pprint\n",
    "\n",
    "download_links = []\n",
    "\n",
    "for project_title, project_id in zip(df['projectTitle'].unique(), df['projectID'].unique()):\n",
    "    print(project_title)\n",
    "    print(project_id)\n",
    "    response = get_data(project_title)\n",
    "    download_links.append({\n",
    "        'project_title': project_title,\n",
    "        'project_id': project_id,\n",
    "        'link': response\n",
    "    })\n",
    "    print(response)"
   ]
  },
  {
   "cell_type": "code",
   "execution_count": 269,
   "metadata": {
    "scrolled": false
   },
   "outputs": [
    {
     "name": "stdout",
     "output_type": "stream",
     "text": [
      "Downloading project E-MTAB-4850\n",
      "Downloading project E-MTAB-6379\n",
      "Downloading project E-MTAB-6386\n",
      "Downloading project E-MTAB-7606\n",
      "Downloading project E-MTAB-9221\n",
      "Downloading project E-GEOD-139324\n",
      "Downloading project E-GEOD-150728\n"
     ]
    }
   ],
   "source": [
    "import zipfile\n",
    "import os\n",
    "\n",
    "path_to_links = 'blood_downloads/'\n",
    "\n",
    "for project in download_links:\n",
    "        \n",
    "    if project['link'] is None:\n",
    "        continue\n",
    "    \n",
    "    print('Downloading project ' + project['project_id'])\n",
    "    \n",
    "    # download the file contents in binary format\n",
    "    response = requests.get(project['link'])\n",
    "    \n",
    "    zip_name = path_to_links + project['project_id'] + \".zip\"\n",
    "    \n",
    "    # open method to open a file on your system and write the contents\n",
    "    with open(zip_name, \"wb\") as code:\n",
    "        code.write(response.content)\n",
    "        \n",
    "    with zipfile.ZipFile(zip_name, 'r') as zip_ref:\n",
    "        zip_ref.extract(project['project_id'] + '.aggregated_filtered_normalised_counts.mtx', path=path_to_links)\n",
    "        \n",
    "    os.remove(zip_name)"
   ]
  },
  {
   "cell_type": "markdown",
   "metadata": {},
   "source": [
    "## Clustering with PCA"
   ]
  },
  {
   "cell_type": "code",
   "execution_count": 2,
   "metadata": {},
   "outputs": [],
   "source": [
    "import matplotlib.pyplot as plt\n",
    "\n",
    "from scipy.io import mmread\n",
    "from sklearn.decomposition import PCA\n",
    "from sklearn.preprocessing import StandardScaler"
   ]
  },
  {
   "cell_type": "markdown",
   "metadata": {},
   "source": [
    "### Test with small matrix"
   ]
  },
  {
   "cell_type": "code",
   "execution_count": 3,
   "metadata": {},
   "outputs": [
    {
     "data": {
      "text/plain": [
       "(15912, 63)"
      ]
     },
     "execution_count": 3,
     "metadata": {},
     "output_type": "execute_result"
    }
   ],
   "source": [
    "small_matrix = mmread('../SingleCell-Files/blood_downloads/E-MTAB-4850.aggregated_filtered_normalised_counts.mtx')\n",
    "scaled_small_matrix = StandardScaler().fit_transform(small_matrix.toarray())\n",
    "scaled_small_matrix.shape"
   ]
  },
  {
   "cell_type": "code",
   "execution_count": 15,
   "metadata": {},
   "outputs": [
    {
     "data": {
      "text/plain": [
       "(15912, 2)"
      ]
     },
     "execution_count": 15,
     "metadata": {},
     "output_type": "execute_result"
    }
   ],
   "source": [
    "pca = PCA(n_components=2)\n",
    "projected = pca.fit_transform(scaled_small_matrix)\n",
    "projected.shape"
   ]
  },
  {
   "cell_type": "code",
   "execution_count": 16,
   "metadata": {
    "scrolled": true
   },
   "outputs": [
    {
     "data": {
      "text/plain": [
       "Text(0.5, 1.0, 'PCA projection of the small matrix')"
      ]
     },
     "execution_count": 16,
     "metadata": {},
     "output_type": "execute_result"
    },
    {
     "data": {
      "image/png": "[encoded data removed]",
      "text/plain": [
       "<Figure size 432x288 with 1 Axes>"
      ]
     },
     "metadata": {
      "needs_background": "light"
     },
     "output_type": "display_data"
    }
   ],
   "source": [
    "plt.scatter(\n",
    "    projected[:, 0],\n",
    "    projected[:, 1],\n",
    "    alpha=0.5\n",
    "    )\n",
    "plt.gca().set_aspect('equal', 'datalim')\n",
    "plt.title('PCA projection of the small matrix', fontsize=24)"
   ]
  },
  {
   "cell_type": "markdown",
   "metadata": {},
   "source": [
    "### Test with large matrix"
   ]
  },
  {
   "cell_type": "code",
   "execution_count": null,
   "metadata": {},
   "outputs": [],
   "source": [
    "large_matrix = mmread('../SingleCell-Files/blood_downloads/E-GEOD-139324.aggregated_filtered_normalised_counts.mtx')\n",
    "scaled_large_matrix = StandardScaler().fit_transform(large_matrix.toarray())\n",
    "scaled_large_matrix.shape"
   ]
  },
  {
   "cell_type": "code",
   "execution_count": null,
   "metadata": {},
   "outputs": [],
   "source": [
    "pca = PCA(n_components=2)\n",
    "projected = pca.fit_transform(large_matrix.toarray())\n",
    "projected.shape"
   ]
  },
  {
   "cell_type": "code",
   "execution_count": null,
   "metadata": {},
   "outputs": [],
   "source": [
    "plt.scatter(\n",
    "    projected[:, 0],\n",
    "    projected[:, 1],\n",
    "    alpha=0.5\n",
    "    )\n",
    "plt.gca().set_aspect('equal', 'datalim')\n",
    "plt.title('PCA projection of the small matrix', fontsize=24)"
   ]
  },
  {
   "cell_type": "markdown",
   "metadata": {},
   "source": [
    "## Clustering with UMAP"
   ]
  },
  {
   "cell_type": "code",
   "execution_count": 1,
   "metadata": {},
   "outputs": [
    {
     "name": "stderr",
     "output_type": "stream",
     "text": [
      "/Users/edusalcas/opt/anaconda3/envs/work/lib/python3.8/site-packages/umap/__init__.py:9: UserWarning: Tensorflow not installed; ParametricUMAP will be unavailable\n",
      "  warn(\"Tensorflow not installed; ParametricUMAP will be unavailable\")\n"
     ]
    }
   ],
   "source": [
    "import umap\n",
    "import matplotlib.pyplot as plt\n",
    "\n",
    "from scipy.io import mmread\n",
    "from sklearn.preprocessing import StandardScaler"
   ]
  },
  {
   "cell_type": "markdown",
   "metadata": {},
   "source": [
    "### Test with small matrix"
   ]
  },
  {
   "cell_type": "code",
   "execution_count": 2,
   "metadata": {
    "scrolled": true
   },
   "outputs": [
    {
     "data": {
      "text/plain": [
       "(15912, 63)"
      ]
     },
     "execution_count": 2,
     "metadata": {},
     "output_type": "execute_result"
    }
   ],
   "source": [
    "matrix = mmread('../SingleCell-Files/blood_downloads/E-MTAB-4850.aggregated_filtered_normalised_counts.mtx')\n",
    "scaled_matrix = StandardScaler().fit_transform(matrix.toarray())\n",
    "scaled_matrix.shape"
   ]
  },
  {
   "cell_type": "code",
   "execution_count": 3,
   "metadata": {},
   "outputs": [
    {
     "data": {
      "text/plain": [
       "(15912, 2)"
      ]
     },
     "execution_count": 3,
     "metadata": {},
     "output_type": "execute_result"
    }
   ],
   "source": [
    "reducer = umap.UMAP()\n",
    "embedding = reducer.fit_transform(scaled_matrix)\n",
    "embedding.shape"
   ]
  },
  {
   "cell_type": "code",
   "execution_count": 5,
   "metadata": {},
   "outputs": [
    {
     "data": {
      "image/png": "[encoded data removed]",
      "text/plain": [
       "<Figure size 432x288 with 1 Axes>"
      ]
     },
     "metadata": {
      "needs_background": "light"
     },
     "output_type": "display_data"
    }
   ],
   "source": [
    "plt.scatter(\n",
    "    embedding[:, 0],\n",
    "    embedding[:, 1],\n",
    "    alpha=0.01\n",
    "    )\n",
    "plt.gca().set_aspect('equal', 'datalim')\n",
    "plt.title('UMAP projection of the small matrix', fontsize=24)\n",
    "plt.show()"
   ]
  },
  {
   "cell_type": "markdown",
   "metadata": {},
   "source": [
    "### Test with large matrix"
   ]
  },
  {
   "cell_type": "code",
   "execution_count": 18,
   "metadata": {},
   "outputs": [],
   "source": [
    "matrix = mmread('../SingleCell-Files/blood_downloads/E-GEOD-139324.aggregated_filtered_normalised_counts.mtx')\n",
    "scaled_matrix = StandardScaler().fit_transform(matrix.toarray())\n",
    "scaled_matrix.shape"
   ]
  },
  {
   "cell_type": "code",
   "execution_count": null,
   "metadata": {},
   "outputs": [],
   "source": [
    "reducer = umap.UMAP()\n",
    "embedding = reducer.fit_transform(scaled_matrix)\n",
    "embedding.shape"
   ]
  },
  {
   "cell_type": "code",
   "execution_count": null,
   "metadata": {},
   "outputs": [],
   "source": [
    "plt.scatter(\n",
    "    embedding[:, 0],\n",
    "    embedding[:, 1],\n",
    "    alpha=0.01\n",
    "    )\n",
    "plt.gca().set_aspect('equal', 'datalim')\n",
    "plt.title('UMAP projection of the large matrix', fontsize=24)"
   ]
  },
  {
   "cell_type": "code",
   "execution_count": null,
   "metadata": {},
   "outputs": [],
   "source": []
  }
 ],
 "metadata": {
  "kernelspec": {
   "display_name": "Python 3",
   "language": "python",
   "name": "python3"
  },
  "language_info": {
   "codemirror_mode": {
    "name": "ipython",
    "version": 3
   },
   "file_extension": ".py",
   "mimetype": "text/x-python",
   "name": "python",
   "nbconvert_exporter": "python",
   "pygments_lexer": "ipython3",
   "version": "3.8.5"
  }
 },
 "nbformat": 4,
 "nbformat_minor": 4
}
