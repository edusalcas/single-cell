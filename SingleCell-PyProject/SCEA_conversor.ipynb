{
 "cells": [
  {
   "cell_type": "code",
   "execution_count": 1,
   "metadata": {},
   "outputs": [],
   "source": [
    "import json"
   ]
  },
  {
   "cell_type": "code",
   "execution_count": 2,
   "metadata": {},
   "outputs": [],
   "source": [
    "with open('../SingleCell-Files/raw_data/SCAE_projects.json') as f:\n",
    "    SCAE_projects = json.load(f)"
   ]
  },
  {
   "cell_type": "code",
   "execution_count": 4,
   "metadata": {},
   "outputs": [],
   "source": [
    "projects = SCAE_projects['experiments']"
   ]
  },
  {
   "cell_type": "code",
   "execution_count": 5,
   "metadata": {
    "scrolled": true
   },
   "outputs": [
    {
     "name": "stdout",
     "output_type": "stream",
     "text": [
      "{\n",
      "  \"experimentAccession\": \"E-CURD-10\",\n",
      "  \"experimentDescription\": \"Single-cell transcriptome profiling for metastatic renal cell carcinoma patient-derived cells and xenografts\",\n",
      "  \"experimentProjects\": [],\n",
      "  \"experimentType\": \"Baseline\",\n",
      "  \"experimentalFactors\": [\n",
      "    \"single cell identifier\",\n",
      "    \"growth condition\"\n",
      "  ],\n",
      "  \"kingdom\": \"animals\",\n",
      "  \"lastUpdate\": \"25-09-2019\",\n",
      "  \"loadDate\": \"25-09-2019\",\n",
      "  \"numberOfAssays\": 118,\n",
      "  \"rawExperimentType\": \"SINGLE_CELL_RNASEQ_MRNA_BASELINE\",\n",
      "  \"species\": \"Homo sapiens\",\n",
      "  \"technologyType\": [\n",
      "    \"smart-like\"\n",
      "  ]\n",
      "}\n"
     ]
    }
   ],
   "source": [
    "print(json.dumps(projects[0], indent=2, sort_keys=True))"
   ]
  },
  {
   "cell_type": "code",
   "execution_count": 28,
   "metadata": {},
   "outputs": [],
   "source": [
    "experiment_accession = {}\n",
    "experiment_description = {}\n",
    "experiment_projects = {}\n",
    "experiment_type = {}\n",
    "experimental_factors = {}\n",
    "kingdoms = {}\n",
    "raw_experiment_type = {}\n",
    "species = []\n",
    "technology_types = []"
   ]
  },
  {
   "cell_type": "code",
   "execution_count": 29,
   "metadata": {},
   "outputs": [],
   "source": [
    "for project in projects:\n",
    "    technology_types += project['technologyType']\n",
    "    species.append(project['species'])"
   ]
  },
  {
   "cell_type": "code",
   "execution_count": 30,
   "metadata": {},
   "outputs": [
    {
     "name": "stdout",
     "output_type": "stream",
     "text": [
      "{'Mus Musculus', 'Anopheles gambiae', 'Schistosoma mansoni', 'Homo sapiens', 'Danio rerio', 'Mus musculus', 'Rattus norvegicus', 'Callithrix jacchus', 'Gallus gallus', 'Caenorhabditis elegans', 'Drosophila melanogaster', 'Saccharomyces cerevisiae', 'Arabidopsis thaliana', 'Plasmodium berghei', 'Plasmodium falciparum 3D7'}\n"
     ]
    }
   ],
   "source": [
    "species = set(species)\n",
    "print(species)"
   ]
  },
  {
   "cell_type": "code",
   "execution_count": 31,
   "metadata": {},
   "outputs": [
    {
     "name": "stdout",
     "output_type": "stream",
     "text": [
      "{'smart-seq2', 'seq-well', '10xv2', '10xv3', 'smart-like', 'smart-seq', 'drop-seq'}\n"
     ]
    }
   ],
   "source": [
    "technology_types = set(technology_types)\n",
    "print(technology_types)"
   ]
  },
  {
   "cell_type": "code",
   "execution_count": null,
   "metadata": {},
   "outputs": [],
   "source": []
  }
 ],
 "metadata": {
  "kernelspec": {
   "display_name": "Python 3",
   "language": "python",
   "name": "python3"
  },
  "language_info": {
   "codemirror_mode": {
    "name": "ipython",
    "version": 3
   },
   "file_extension": ".py",
   "mimetype": "text/x-python",
   "name": "python",
   "nbconvert_exporter": "python",
   "pygments_lexer": "ipython3",
   "version": "3.8.5"
  }
 },
 "nbformat": 4,
 "nbformat_minor": 4
}
